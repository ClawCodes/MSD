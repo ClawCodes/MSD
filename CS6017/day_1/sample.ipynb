{
 "cells": [
  {
   "metadata": {},
   "cell_type": "markdown",
   "source": "# Intro",
   "id": "8a77807f92f26ee"
  },
  {
   "metadata": {
    "ExecuteTime": {
     "end_time": "2025-05-13T16:58:59.866394Z",
     "start_time": "2025-05-13T16:58:59.863508Z"
    }
   },
   "cell_type": "code",
   "source": "print(\"Hello World!\")\n",
   "id": "fbc121e30a2defb3",
   "outputs": [
    {
     "name": "stdout",
     "output_type": "stream",
     "text": [
      "Hello World!\n"
     ]
    }
   ],
   "execution_count": 2
  },
  {
   "metadata": {
    "ExecuteTime": {
     "end_time": "2025-05-13T17:07:30.329473Z",
     "start_time": "2025-05-13T17:07:30.324114Z"
    }
   },
   "cell_type": "code",
   "source": "display(\"hello\")",
   "id": "b478c75ce6894062",
   "outputs": [
    {
     "data": {
      "text/plain": [
       "'hello'"
      ]
     },
     "metadata": {},
     "output_type": "display_data"
    }
   ],
   "execution_count": 5
  },
  {
   "metadata": {
    "ExecuteTime": {
     "end_time": "2025-05-14T17:34:55.026552Z",
     "start_time": "2025-05-14T17:34:55.022984Z"
    }
   },
   "cell_type": "code",
   "source": [
    "def func(*args, **kwargs):\n",
    "    print(args)\n",
    "    print(kwargs)"
   ],
   "id": "f721c62c0ac76046",
   "outputs": [],
   "execution_count": 7
  },
  {
   "metadata": {
    "ExecuteTime": {
     "end_time": "2025-05-14T17:34:56.218368Z",
     "start_time": "2025-05-14T17:34:56.214231Z"
    }
   },
   "cell_type": "code",
   "source": "func(1, 2, a=\"A\", b=\"B\")",
   "id": "4332b6a60562683e",
   "outputs": [
    {
     "name": "stdout",
     "output_type": "stream",
     "text": [
      "(1, 2)\n",
      "{'a': 'A', 'b': 'B'}\n"
     ]
    }
   ],
   "execution_count": 8
  },
  {
   "metadata": {
    "ExecuteTime": {
     "end_time": "2025-05-15T03:15:48.420502Z",
     "start_time": "2025-05-15T03:15:48.415892Z"
    }
   },
   "cell_type": "code",
   "source": "",
   "id": "31e124683c5fd418",
   "outputs": [
    {
     "name": "stdout",
     "output_type": "stream",
     "text": [
      "['/Users/christopherlawton/miniconda3/lib/python3.12/site-packages']\n"
     ]
    }
   ],
   "execution_count": 9
  }
 ],
 "metadata": {
  "kernelspec": {
   "display_name": "Python 3",
   "language": "python",
   "name": "python3"
  },
  "language_info": {
   "codemirror_mode": {
    "name": "ipython",
    "version": 2
   },
   "file_extension": ".py",
   "mimetype": "text/x-python",
   "name": "python",
   "nbconvert_exporter": "python",
   "pygments_lexer": "ipython2",
   "version": "2.7.6"
  }
 },
 "nbformat": 4,
 "nbformat_minor": 5
}
