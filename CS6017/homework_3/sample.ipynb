{
 "cells": [
  {
   "metadata": {},
   "cell_type": "markdown",
   "source": "# Part 2 - Regression",
   "id": "8a77807f92f26ee"
  },
  {
   "metadata": {
    "ExecuteTime": {
     "end_time": "2025-06-08T01:06:55.379895Z",
     "start_time": "2025-06-08T01:06:55.376187Z"
    }
   },
   "cell_type": "code",
   "source": [
    "import pandas as pd\n",
    "\n",
    "df = pd.read_csv(\"data/submissions.csv\")\n",
    "target = \"rank\""
   ],
   "id": "fbc121e30a2defb3",
   "outputs": [],
   "execution_count": 6
  },
  {
   "metadata": {
    "ExecuteTime": {
     "end_time": "2025-06-08T01:08:17.017352Z",
     "start_time": "2025-06-08T01:08:17.008214Z"
    }
   },
   "cell_type": "code",
   "source": [
    "# NOTE: These helper functions were taken from the matplotlib annotated heatmap tutorial https://matplotlib.org/stable/gallery/images_contours_and_fields/image_annotated_heatmap.html\n",
    "import matplotlib\n",
    "import numpy as np\n",
    "def heatmap(data, row_labels, col_labels, ax=None,\n",
    "            cbar_kw=None, cbarlabel=\"\", **kwargs):\n",
    "    \"\"\"\n",
    "    Create a heatmap from a numpy array and two lists of labels.\n",
    "\n",
    "    Parameters\n",
    "    ----------\n",
    "    data\n",
    "        A 2D numpy array of shape (M, N).\n",
    "    row_labels\n",
    "        A list or array of length M with the labels for the rows.\n",
    "    col_labels\n",
    "        A list or array of length N with the labels for the columns.\n",
    "    ax\n",
    "        A `matplotlib.axes.Axes` instance to which the heatmap is plotted.  If\n",
    "        not provided, use current Axes or create a new one.  Optional.\n",
    "    cbar_kw\n",
    "        A dictionary with arguments to `matplotlib.Figure.colorbar`.  Optional.\n",
    "    cbarlabel\n",
    "        The label for the colorbar.  Optional.\n",
    "    **kwargs\n",
    "        All other arguments are forwarded to `imshow`.\n",
    "    \"\"\"\n",
    "\n",
    "    if ax is None:\n",
    "        ax = plt.gca()\n",
    "\n",
    "    if cbar_kw is None:\n",
    "        cbar_kw = {}\n",
    "\n",
    "    # Plot the heatmap\n",
    "    im = ax.imshow(data, **kwargs)\n",
    "\n",
    "    # Create colorbar\n",
    "    cbar = ax.figure.colorbar(im, ax=ax, **cbar_kw)\n",
    "    cbar.ax.set_ylabel(cbarlabel, rotation=-90, va=\"bottom\")\n",
    "\n",
    "    # Show all ticks and label them with the respective list entries.\n",
    "    ax.set_xticks(range(data.shape[1]), labels=col_labels,\n",
    "                  rotation=-30, ha=\"right\", rotation_mode=\"anchor\")\n",
    "    ax.set_yticks(range(data.shape[0]), labels=row_labels)\n",
    "\n",
    "    # Let the horizontal axes labeling appear on top.\n",
    "    ax.tick_params(top=True, bottom=False,\n",
    "                   labeltop=True, labelbottom=False)\n",
    "\n",
    "    # Turn spines off and create white grid.\n",
    "    ax.spines[:].set_visible(False)\n",
    "\n",
    "    ax.set_xticks(np.arange(data.shape[1]+1)-.5, minor=True)\n",
    "    ax.set_yticks(np.arange(data.shape[0]+1)-.5, minor=True)\n",
    "    ax.grid(which=\"minor\", color=\"w\", linestyle='-', linewidth=3)\n",
    "    ax.tick_params(which=\"minor\", bottom=False, left=False)\n",
    "\n",
    "    return im, cbar\n",
    "\n",
    "\n",
    "def annotate_heatmap(im, data=None, valfmt=\"{x:.2f}\",\n",
    "                     textcolors=(\"black\", \"white\"),\n",
    "                     threshold=None, **textkw):\n",
    "    \"\"\"\n",
    "    A function to annotate a heatmap.\n",
    "\n",
    "    Parameters\n",
    "    ----------\n",
    "    im\n",
    "        The AxesImage to be labeled.\n",
    "    data\n",
    "        Data used to annotate.  If None, the image's data is used.  Optional.\n",
    "    valfmt\n",
    "        The format of the annotations inside the heatmap.  This should either\n",
    "        use the string format method, e.g. \"$ {x:.2f}\", or be a\n",
    "        `matplotlib.ticker.Formatter`.  Optional.\n",
    "    textcolors\n",
    "        A pair of colors.  The first is used for values below a threshold,\n",
    "        the second for those above.  Optional.\n",
    "    threshold\n",
    "        Value in data units according to which the colors from textcolors are\n",
    "        applied.  If None (the default) uses the middle of the colormap as\n",
    "        separation.  Optional.\n",
    "    **kwargs\n",
    "        All other arguments are forwarded to each call to `text` used to create\n",
    "        the text labels.\n",
    "    \"\"\"\n",
    "\n",
    "    if not isinstance(data, (list, np.ndarray)):\n",
    "        data = im.get_array()\n",
    "\n",
    "    # Normalize the threshold to the images color range.\n",
    "    if threshold is not None:\n",
    "        threshold = im.norm(threshold)\n",
    "    else:\n",
    "        threshold = im.norm(data.max())/2.\n",
    "\n",
    "    # Set default alignment to center, but allow it to be\n",
    "    # overwritten by textkw.\n",
    "    kw = dict(horizontalalignment=\"center\",\n",
    "              verticalalignment=\"center\")\n",
    "    kw.update(textkw)\n",
    "\n",
    "    # Get the formatter in case a string is supplied\n",
    "    if isinstance(valfmt, str):\n",
    "        valfmt = matplotlib.ticker.StrMethodFormatter(valfmt)\n",
    "\n",
    "    # Loop over the data and create a `Text` for each \"pixel\".\n",
    "    # Change the text's color depending on the data.\n",
    "    texts = []\n",
    "    for i in range(data.shape[0]):\n",
    "        for j in range(data.shape[1]):\n",
    "            kw.update(color=textcolors[int(im.norm(data[i, j]) > threshold)])\n",
    "            text = im.axes.text(j, i, valfmt(data[i, j], None), **kw)\n",
    "            texts.append(text)\n",
    "\n",
    "    return texts"
   ],
   "id": "f0769fc7e9af5207",
   "outputs": [],
   "execution_count": 10
  },
  {
   "metadata": {},
   "cell_type": "markdown",
   "source": "#### EDA to find collinear features",
   "id": "520cba49d3ccad6d"
  },
  {
   "metadata": {
    "ExecuteTime": {
     "end_time": "2025-06-08T01:09:23.779380Z",
     "start_time": "2025-06-08T01:09:23.700178Z"
    }
   },
   "cell_type": "code",
   "source": [
    "import matplotlib.pyplot as plt\n",
    "\n",
    "features = [\"title_length\", \"age\", \"points\", \"num_comments\"]\n",
    "\n",
    "corr_mat = df[features].corr()\n",
    "\n",
    "fig, ax = plt.subplots()\n",
    "\n",
    "im, cbar = heatmap(corr_mat[features], corr_mat.index, corr_mat.columns, ax=ax,\n",
    "                   cmap=\"YlGn\", cbarlabel=\"Correlation Matrix of features\")\n",
    "texts = annotate_heatmap(im, valfmt=\"{x:.1f} t\", fontsize=5)\n",
    "\n",
    "fig.tight_layout()\n",
    "plt.show()"
   ],
   "id": "5369c3a688038527",
   "outputs": [
    {
     "data": {
      "text/plain": [
       "<Figure size 640x480 with 2 Axes>"
      ],
      "image/png": "[encoded data removed]"
     },
     "metadata": {},
     "output_type": "display_data"
    }
   ],
   "execution_count": 11
  },
  {
   "metadata": {
    "ExecuteTime": {
     "end_time": "2025-06-08T01:20:11.386275Z",
     "start_time": "2025-06-08T01:20:11.358442Z"
    }
   },
   "cell_type": "code",
   "source": [
    "import statsmodels.api as sm\n",
    "from statsmodels.stats.outliers_influence import variance_inflation_factor\n",
    "\n",
    "X = df[features]\n",
    "X = sm.add_constant(X)\n",
    "\n",
    "vif_df = pd.DataFrame()\n",
    "vif_df[\"feature\"] = X.columns\n",
    "vif_df[\"VIF\"] = [variance_inflation_factor(X.values, i) for i in range(X.shape[1])]\n",
    "\n",
    "vif_df"
   ],
   "id": "d260141fdc45250e",
   "outputs": [
    {
     "data": {
      "text/plain": [
       "        feature        VIF\n",
       "0         const  15.145576\n",
       "1  title_length   1.019958\n",
       "2           age   1.156318\n",
       "3        points   3.955727\n",
       "4  num_comments   4.152799"
      ],
      "text/html": [
       "<div>\n",
       "<style scoped>\n",
       "    .dataframe tbody tr th:only-of-type {\n",
       "        vertical-align: middle;\n",
       "    }\n",
       "\n",
       "    .dataframe tbody tr th {\n",
       "        vertical-align: top;\n",
       "    }\n",
       "\n",
       "    .dataframe thead th {\n",
       "        text-align: right;\n",
       "    }\n",
       "</style>\n",
       "<table border=\"1\" class=\"dataframe\">\n",
       "  <thead>\n",
       "    <tr style=\"text-align: right;\">\n",
       "      <th></th>\n",
       "      <th>feature</th>\n",
       "      <th>VIF</th>\n",
       "    </tr>\n",
       "  </thead>\n",
       "  <tbody>\n",
       "    <tr>\n",
       "      <th>0</th>\n",
       "      <td>const</td>\n",
       "      <td>15.145576</td>\n",
       "    </tr>\n",
       "    <tr>\n",
       "      <th>1</th>\n",
       "      <td>title_length</td>\n",
       "      <td>1.019958</td>\n",
       "    </tr>\n",
       "    <tr>\n",
       "      <th>2</th>\n",
       "      <td>age</td>\n",
       "      <td>1.156318</td>\n",
       "    </tr>\n",
       "    <tr>\n",
       "      <th>3</th>\n",
       "      <td>points</td>\n",
       "      <td>3.955727</td>\n",
       "    </tr>\n",
       "    <tr>\n",
       "      <th>4</th>\n",
       "      <td>num_comments</td>\n",
       "      <td>4.152799</td>\n",
       "    </tr>\n",
       "  </tbody>\n",
       "</table>\n",
       "</div>"
      ]
     },
     "execution_count": 13,
     "metadata": {},
     "output_type": "execute_result"
    }
   ],
   "execution_count": 13
  },
  {
   "metadata": {},
   "cell_type": "markdown",
   "source": [
    "##### Notes on collinearity\n",
    "\n",
    "The number of comments and points are highly correlated. However, no feature has a concerning VIF score (i.e. > 5 or so). Thus, attempting an OLS model with all features could be a potential approach. Additionally, there are no inverse relationships to worry about.\n"
   ],
   "id": "1c3b9019d855022d"
  },
  {
   "metadata": {
    "ExecuteTime": {
     "end_time": "2025-06-08T01:25:15.505235Z",
     "start_time": "2025-06-08T01:25:15.471088Z"
    }
   },
   "cell_type": "code",
   "source": [
    "# Fit multiple models\n",
    "feature_sets = {\n",
    "    \"model_1\": features, # All features available\n",
    "    \"model_2\": [\"title_length\", \"age\", \"points\"], # Exclude num_comments which has highest VIF\n",
    "    \"model_3\": [\"title_length\", \"age\", \"num_comments\"], # Exclude points which has second highest VIF\n",
    "}\n",
    "\n",
    "models = {}\n",
    "for model_name, feat in feature_sets.items():\n",
    "    x = df[feat]\n",
    "    x = sm.add_constant(x)\n",
    "    y = df[target]\n",
    "    model = sm.OLS(y, x).fit()\n",
    "    models[model_name] = model\n",
    "    print(f\"MODEL: {model_name}\\n\")\n",
    "    print(model.summary())\n",
    "    print(\"\\n\")"
   ],
   "id": "5733a99dc60bca04",
   "outputs": [
    {
     "name": "stdout",
     "output_type": "stream",
     "text": [
      "MODEL: model_1\n",
      "\n",
      "                            OLS Regression Results                            \n",
      "==============================================================================\n",
      "Dep. Variable:                   rank   R-squared:                       0.446\n",
      "Model:                            OLS   Adj. R-squared:                  0.431\n",
      "Method:                 Least Squares   F-statistic:                     29.00\n",
      "Date:                Sat, 07 Jun 2025   Prob (F-statistic):           1.11e-17\n",
      "Time:                        19:25:15   Log-Likelihood:                -728.59\n",
      "No. Observations:                 149   AIC:                             1467.\n",
      "Df Residuals:                     144   BIC:                             1482.\n",
      "Df Model:                           4                                         \n",
      "Covariance Type:            nonrobust                                         \n",
      "================================================================================\n",
      "                   coef    std err          t      P>|t|      [0.025      0.975]\n",
      "--------------------------------------------------------------------------------\n",
      "const           21.7411     10.432      2.084      0.039       1.121      42.361\n",
      "title_length     0.4076      0.142      2.870      0.005       0.127       0.688\n",
      "age              1.4131      0.142      9.930      0.000       1.132       1.694\n",
      "points          -0.0688      0.025     -2.722      0.007      -0.119      -0.019\n",
      "num_comments    -0.0006      0.046     -0.013      0.990      -0.092       0.091\n",
      "==============================================================================\n",
      "Omnibus:                        7.555   Durbin-Watson:                   0.839\n",
      "Prob(Omnibus):                  0.023   Jarque-Bera (JB):                7.292\n",
      "Skew:                           0.524   Prob(JB):                       0.0261\n",
      "Kurtosis:                       3.277   Cond. No.                     1.18e+03\n",
      "==============================================================================\n",
      "\n",
      "Notes:\n",
      "[1] Standard Errors assume that the covariance matrix of the errors is correctly specified.\n",
      "[2] The condition number is large, 1.18e+03. This might indicate that there are\n",
      "strong multicollinearity or other numerical problems.\n",
      "\n",
      "\n",
      "MODEL: model_2\n",
      "\n",
      "                            OLS Regression Results                            \n",
      "==============================================================================\n",
      "Dep. Variable:                   rank   R-squared:                       0.446\n",
      "Model:                            OLS   Adj. R-squared:                  0.435\n",
      "Method:                 Least Squares   F-statistic:                     38.93\n",
      "Date:                Sat, 07 Jun 2025   Prob (F-statistic):           1.62e-18\n",
      "Time:                        19:25:15   Log-Likelihood:                -728.59\n",
      "No. Observations:                 149   AIC:                             1465.\n",
      "Df Residuals:                     145   BIC:                             1477.\n",
      "Df Model:                           3                                         \n",
      "Covariance Type:            nonrobust                                         \n",
      "================================================================================\n",
      "                   coef    std err          t      P>|t|      [0.025      0.975]\n",
      "--------------------------------------------------------------------------------\n",
      "const           21.7572     10.318      2.109      0.037       1.364      42.150\n",
      "title_length     0.4074      0.140      2.900      0.004       0.130       0.685\n",
      "age              1.4127      0.139     10.156      0.000       1.138       1.688\n",
      "points          -0.0691      0.013     -5.165      0.000      -0.096      -0.043\n",
      "==============================================================================\n",
      "Omnibus:                        7.555   Durbin-Watson:                   0.839\n",
      "Prob(Omnibus):                  0.023   Jarque-Bera (JB):                7.292\n",
      "Skew:                           0.524   Prob(JB):                       0.0261\n",
      "Kurtosis:                       3.277   Cond. No.                     1.04e+03\n",
      "==============================================================================\n",
      "\n",
      "Notes:\n",
      "[1] Standard Errors assume that the covariance matrix of the errors is correctly specified.\n",
      "[2] The condition number is large, 1.04e+03. This might indicate that there are\n",
      "strong multicollinearity or other numerical problems.\n",
      "\n",
      "\n",
      "MODEL: model_3\n",
      "\n",
      "                            OLS Regression Results                            \n",
      "==============================================================================\n",
      "Dep. Variable:                   rank   R-squared:                       0.418\n",
      "Model:                            OLS   Adj. R-squared:                  0.406\n",
      "Method:                 Least Squares   F-statistic:                     34.66\n",
      "Date:                Sat, 07 Jun 2025   Prob (F-statistic):           5.98e-17\n",
      "Time:                        19:25:15   Log-Likelihood:                -732.33\n",
      "No. Observations:                 149   AIC:                             1473.\n",
      "Df Residuals:                     145   BIC:                             1485.\n",
      "Df Model:                           3                                         \n",
      "Covariance Type:            nonrobust                                         \n",
      "================================================================================\n",
      "                   coef    std err          t      P>|t|      [0.025      0.975]\n",
      "--------------------------------------------------------------------------------\n",
      "const           18.1124     10.573      1.713      0.089      -2.784      39.009\n",
      "title_length     0.4355      0.145      3.010      0.003       0.150       0.722\n",
      "age              1.4136      0.145      9.721      0.000       1.126       1.701\n",
      "num_comments    -0.1076      0.025     -4.275      0.000      -0.157      -0.058\n",
      "==============================================================================\n",
      "Omnibus:                        3.531   Durbin-Watson:                   0.781\n",
      "Prob(Omnibus):                  0.171   Jarque-Bera (JB):                3.577\n",
      "Skew:                           0.364   Prob(JB):                        0.167\n",
      "Kurtosis:                       2.788   Cond. No.                         601.\n",
      "==============================================================================\n",
      "\n",
      "Notes:\n",
      "[1] Standard Errors assume that the covariance matrix of the errors is correctly specified.\n",
      "\n",
      "\n"
     ]
    }
   ],
   "execution_count": 14
  },
  {
   "metadata": {},
   "cell_type": "markdown",
   "source": [
    "#### Regression summary\n",
    "\n",
    "All models share a similar R-squared ranging from 0.418 to 0.446.\n",
    "age seems to have the largest impact on all models, which intuitively makes sense as the longer the post is around the more time it's given to gain engagement and upvotes.\n",
    "The first model shows num_comments as being statistically insignificant, however, the 3rd model that includes num comments does show it tobe significant. This could be due to the inclusion of points in the first model which is fairly correlated with num comments.\n",
    "In the first and second model, points seems to have a minimal impact on rank.\n"
   ],
   "id": "7f013959e60884b"
  },
  {
   "metadata": {},
   "cell_type": "markdown",
   "source": "## Part 3 Classification",
   "id": "8720305524dfd2"
  },
  {
   "metadata": {
    "ExecuteTime": {
     "end_time": "2025-06-09T04:54:51.709833Z",
     "start_time": "2025-06-09T04:54:51.704984Z"
    }
   },
   "cell_type": "code",
   "source": "df['rank_class'] = df['rank'].apply(lambda rank: int(rank <= 30)) # Front page contains ranks up to 30",
   "id": "ab83136eb948b5d9",
   "outputs": [],
   "execution_count": 42
  },
  {
   "metadata": {
    "ExecuteTime": {
     "end_time": "2025-06-09T05:34:00.405281Z",
     "start_time": "2025-06-09T05:34:00.392506Z"
    }
   },
   "cell_type": "code",
   "source": [
    "single_logit = sm.Logit(df['rank_class'], df['age']).fit()\n",
    "single_logit.summary()"
   ],
   "id": "6eb86fbdfa2a908b",
   "outputs": [
    {
     "name": "stdout",
     "output_type": "stream",
     "text": [
      "Optimization terminated successfully.\n",
      "         Current function value: 0.373486\n",
      "         Iterations 7\n"
     ]
    },
    {
     "data": {
      "text/plain": [
       "<class 'statsmodels.iolib.summary.Summary'>\n",
       "\"\"\"\n",
       "                           Logit Regression Results                           \n",
       "==============================================================================\n",
       "Dep. Variable:             rank_class   No. Observations:                  149\n",
       "Model:                          Logit   Df Residuals:                      148\n",
       "Method:                           MLE   Df Model:                            0\n",
       "Date:                Sun, 08 Jun 2025   Pseudo R-squ.:                  0.2422\n",
       "Time:                        23:34:00   Log-Likelihood:                -55.649\n",
       "converged:                       True   LL-Null:                       -73.437\n",
       "Covariance Type:            nonrobust   LLR p-value:                       nan\n",
       "==============================================================================\n",
       "                 coef    std err          z      P>|z|      [0.025      0.975]\n",
       "------------------------------------------------------------------------------\n",
       "age           -0.0858      0.013     -6.379      0.000      -0.112      -0.059\n",
       "==============================================================================\n",
       "\"\"\""
      ],
      "text/html": [
       "<table class=\"simpletable\">\n",
       "<caption>Logit Regression Results</caption>\n",
       "<tr>\n",
       "  <th>Dep. Variable:</th>      <td>rank_class</td>    <th>  No. Observations:  </th>  <td>   149</td> \n",
       "</tr>\n",
       "<tr>\n",
       "  <th>Model:</th>                 <td>Logit</td>      <th>  Df Residuals:      </th>  <td>   148</td> \n",
       "</tr>\n",
       "<tr>\n",
       "  <th>Method:</th>                 <td>MLE</td>       <th>  Df Model:          </th>  <td>     0</td> \n",
       "</tr>\n",
       "<tr>\n",
       "  <th>Date:</th>            <td>Sun, 08 Jun 2025</td> <th>  Pseudo R-squ.:     </th>  <td>0.2422</td> \n",
       "</tr>\n",
       "<tr>\n",
       "  <th>Time:</th>                <td>23:34:00</td>     <th>  Log-Likelihood:    </th> <td> -55.649</td>\n",
       "</tr>\n",
       "<tr>\n",
       "  <th>converged:</th>             <td>True</td>       <th>  LL-Null:           </th> <td> -73.437</td>\n",
       "</tr>\n",
       "<tr>\n",
       "  <th>Covariance Type:</th>     <td>nonrobust</td>    <th>  LLR p-value:       </th>  <td>   nan</td> \n",
       "</tr>\n",
       "</table>\n",
       "<table class=\"simpletable\">\n",
       "<tr>\n",
       "   <td></td>      <th>coef</th>     <th>std err</th>      <th>z</th>      <th>P>|z|</th>  <th>[0.025</th>    <th>0.975]</th>  \n",
       "</tr>\n",
       "<tr>\n",
       "  <th>age</th> <td>   -0.0858</td> <td>    0.013</td> <td>   -6.379</td> <td> 0.000</td> <td>   -0.112</td> <td>   -0.059</td>\n",
       "</tr>\n",
       "</table>"
      ],
      "text/latex": "\\begin{center}\n\\begin{tabular}{lclc}\n\\toprule\n\\textbf{Dep. Variable:}   &   rank\\_class    & \\textbf{  No. Observations:  } &      149    \\\\\n\\textbf{Model:}           &      Logit       & \\textbf{  Df Residuals:      } &      148    \\\\\n\\textbf{Method:}          &       MLE        & \\textbf{  Df Model:          } &        0    \\\\\n\\textbf{Date:}            & Sun, 08 Jun 2025 & \\textbf{  Pseudo R-squ.:     } &   0.2422    \\\\\n\\textbf{Time:}            &     23:34:00     & \\textbf{  Log-Likelihood:    } &   -55.649   \\\\\n\\textbf{converged:}       &       True       & \\textbf{  LL-Null:           } &   -73.437   \\\\\n\\textbf{Covariance Type:} &    nonrobust     & \\textbf{  LLR p-value:       } &      nan    \\\\\n\\bottomrule\n\\end{tabular}\n\\begin{tabular}{lcccccc}\n             & \\textbf{coef} & \\textbf{std err} & \\textbf{z} & \\textbf{P$> |$z$|$} & \\textbf{[0.025} & \\textbf{0.975]}  \\\\\n\\midrule\n\\textbf{age} &      -0.0858  &        0.013     &    -6.379  &         0.000        &       -0.112    &       -0.059     \\\\\n\\bottomrule\n\\end{tabular}\n%\\caption{Logit Regression Results}\n\\end{center}"
     },
     "execution_count": 60,
     "metadata": {},
     "output_type": "execute_result"
    }
   ],
   "execution_count": 60
  },
  {
   "metadata": {
    "ExecuteTime": {
     "end_time": "2025-06-09T05:34:02.191565Z",
     "start_time": "2025-06-09T05:34:02.137936Z"
    }
   },
   "cell_type": "code",
   "source": [
    "df.plot.scatter(x='age', y='rank_class')\n",
    "logistic = lambda x: 1/(1+np.exp(-x))\n",
    "x = np.linspace(df['age'].min(),df['age'].max(),1000)\n",
    "par = dict(single_logit.params)\n",
    "plt.plot(x, logistic(par['age'] * x), color='black')"
   ],
   "id": "e3b96870b3a59a2b",
   "outputs": [
    {
     "data": {
      "text/plain": [
       "[<matplotlib.lines.Line2D at 0x11317e8d0>]"
      ]
     },
     "execution_count": 61,
     "metadata": {},
     "output_type": "execute_result"
    },
    {
     "data": {
      "text/plain": [
       "<Figure size 640x480 with 1 Axes>"
      ],
      "image/png": "[encoded data removed]"
     },
     "metadata": {},
     "output_type": "display_data"
    }
   ],
   "execution_count": 61
  },
  {
   "metadata": {
    "ExecuteTime": {
     "end_time": "2025-06-09T05:34:56.199914Z",
     "start_time": "2025-06-09T05:34:56.193978Z"
    }
   },
   "cell_type": "code",
   "source": [
    "preds = single_logit.predict() > 0.5\n",
    "pd.crosstab(df['rank_class'], preds)"
   ],
   "id": "6b99b06a23b9dcca",
   "outputs": [
    {
     "data": {
      "text/plain": [
       "col_0       False\n",
       "rank_class       \n",
       "0             120\n",
       "1              29"
      ],
      "text/html": [
       "<div>\n",
       "<style scoped>\n",
       "    .dataframe tbody tr th:only-of-type {\n",
       "        vertical-align: middle;\n",
       "    }\n",
       "\n",
       "    .dataframe tbody tr th {\n",
       "        vertical-align: top;\n",
       "    }\n",
       "\n",
       "    .dataframe thead th {\n",
       "        text-align: right;\n",
       "    }\n",
       "</style>\n",
       "<table border=\"1\" class=\"dataframe\">\n",
       "  <thead>\n",
       "    <tr style=\"text-align: right;\">\n",
       "      <th>col_0</th>\n",
       "      <th>False</th>\n",
       "    </tr>\n",
       "    <tr>\n",
       "      <th>rank_class</th>\n",
       "      <th></th>\n",
       "    </tr>\n",
       "  </thead>\n",
       "  <tbody>\n",
       "    <tr>\n",
       "      <th>0</th>\n",
       "      <td>120</td>\n",
       "    </tr>\n",
       "    <tr>\n",
       "      <th>1</th>\n",
       "      <td>29</td>\n",
       "    </tr>\n",
       "  </tbody>\n",
       "</table>\n",
       "</div>"
      ]
     },
     "execution_count": 64,
     "metadata": {},
     "output_type": "execute_result"
    }
   ],
   "execution_count": 64
  },
  {
   "metadata": {
    "ExecuteTime": {
     "end_time": "2025-06-09T05:33:54.635064Z",
     "start_time": "2025-06-09T05:33:54.618837Z"
    }
   },
   "cell_type": "code",
   "source": [
    "multi_logit = sm.Logit(df['rank_class'], df[features]).fit()\n",
    "multi_logit.summary()"
   ],
   "id": "84485f9c45535370",
   "outputs": [
    {
     "name": "stdout",
     "output_type": "stream",
     "text": [
      "Optimization terminated successfully.\n",
      "         Current function value: 0.321542\n",
      "         Iterations 8\n"
     ]
    },
    {
     "data": {
      "text/plain": [
       "<class 'statsmodels.iolib.summary.Summary'>\n",
       "\"\"\"\n",
       "                           Logit Regression Results                           \n",
       "==============================================================================\n",
       "Dep. Variable:             rank_class   No. Observations:                  149\n",
       "Model:                          Logit   Df Residuals:                      145\n",
       "Method:                           MLE   Df Model:                            3\n",
       "Date:                Sun, 08 Jun 2025   Pseudo R-squ.:                  0.3476\n",
       "Time:                        23:33:54   Log-Likelihood:                -47.910\n",
       "converged:                       True   LL-Null:                       -73.437\n",
       "Covariance Type:            nonrobust   LLR p-value:                 4.761e-11\n",
       "================================================================================\n",
       "                   coef    std err          z      P>|z|      [0.025      0.975]\n",
       "--------------------------------------------------------------------------------\n",
       "title_length     0.0052      0.006      0.816      0.414      -0.007       0.018\n",
       "age             -0.1519      0.034     -4.486      0.000      -0.218      -0.086\n",
       "points           0.0047      0.003      1.480      0.139      -0.002       0.011\n",
       "num_comments     0.0011      0.005      0.222      0.825      -0.009       0.011\n",
       "================================================================================\n",
       "\"\"\""
      ],
      "text/html": [
       "<table class=\"simpletable\">\n",
       "<caption>Logit Regression Results</caption>\n",
       "<tr>\n",
       "  <th>Dep. Variable:</th>      <td>rank_class</td>    <th>  No. Observations:  </th>  <td>   149</td>  \n",
       "</tr>\n",
       "<tr>\n",
       "  <th>Model:</th>                 <td>Logit</td>      <th>  Df Residuals:      </th>  <td>   145</td>  \n",
       "</tr>\n",
       "<tr>\n",
       "  <th>Method:</th>                 <td>MLE</td>       <th>  Df Model:          </th>  <td>     3</td>  \n",
       "</tr>\n",
       "<tr>\n",
       "  <th>Date:</th>            <td>Sun, 08 Jun 2025</td> <th>  Pseudo R-squ.:     </th>  <td>0.3476</td>  \n",
       "</tr>\n",
       "<tr>\n",
       "  <th>Time:</th>                <td>23:33:54</td>     <th>  Log-Likelihood:    </th> <td> -47.910</td> \n",
       "</tr>\n",
       "<tr>\n",
       "  <th>converged:</th>             <td>True</td>       <th>  LL-Null:           </th> <td> -73.437</td> \n",
       "</tr>\n",
       "<tr>\n",
       "  <th>Covariance Type:</th>     <td>nonrobust</td>    <th>  LLR p-value:       </th> <td>4.761e-11</td>\n",
       "</tr>\n",
       "</table>\n",
       "<table class=\"simpletable\">\n",
       "<tr>\n",
       "        <td></td>          <th>coef</th>     <th>std err</th>      <th>z</th>      <th>P>|z|</th>  <th>[0.025</th>    <th>0.975]</th>  \n",
       "</tr>\n",
       "<tr>\n",
       "  <th>title_length</th> <td>    0.0052</td> <td>    0.006</td> <td>    0.816</td> <td> 0.414</td> <td>   -0.007</td> <td>    0.018</td>\n",
       "</tr>\n",
       "<tr>\n",
       "  <th>age</th>          <td>   -0.1519</td> <td>    0.034</td> <td>   -4.486</td> <td> 0.000</td> <td>   -0.218</td> <td>   -0.086</td>\n",
       "</tr>\n",
       "<tr>\n",
       "  <th>points</th>       <td>    0.0047</td> <td>    0.003</td> <td>    1.480</td> <td> 0.139</td> <td>   -0.002</td> <td>    0.011</td>\n",
       "</tr>\n",
       "<tr>\n",
       "  <th>num_comments</th> <td>    0.0011</td> <td>    0.005</td> <td>    0.222</td> <td> 0.825</td> <td>   -0.009</td> <td>    0.011</td>\n",
       "</tr>\n",
       "</table>"
      ],
      "text/latex": "\\begin{center}\n\\begin{tabular}{lclc}\n\\toprule\n\\textbf{Dep. Variable:}   &   rank\\_class    & \\textbf{  No. Observations:  } &      149    \\\\\n\\textbf{Model:}           &      Logit       & \\textbf{  Df Residuals:      } &      145    \\\\\n\\textbf{Method:}          &       MLE        & \\textbf{  Df Model:          } &        3    \\\\\n\\textbf{Date:}            & Sun, 08 Jun 2025 & \\textbf{  Pseudo R-squ.:     } &   0.3476    \\\\\n\\textbf{Time:}            &     23:33:54     & \\textbf{  Log-Likelihood:    } &   -47.910   \\\\\n\\textbf{converged:}       &       True       & \\textbf{  LL-Null:           } &   -73.437   \\\\\n\\textbf{Covariance Type:} &    nonrobust     & \\textbf{  LLR p-value:       } & 4.761e-11   \\\\\n\\bottomrule\n\\end{tabular}\n\\begin{tabular}{lcccccc}\n                       & \\textbf{coef} & \\textbf{std err} & \\textbf{z} & \\textbf{P$> |$z$|$} & \\textbf{[0.025} & \\textbf{0.975]}  \\\\\n\\midrule\n\\textbf{title\\_length} &       0.0052  &        0.006     &     0.816  &         0.414        &       -0.007    &        0.018     \\\\\n\\textbf{age}           &      -0.1519  &        0.034     &    -4.486  &         0.000        &       -0.218    &       -0.086     \\\\\n\\textbf{points}        &       0.0047  &        0.003     &     1.480  &         0.139        &       -0.002    &        0.011     \\\\\n\\textbf{num\\_comments} &       0.0011  &        0.005     &     0.222  &         0.825        &       -0.009    &        0.011     \\\\\n\\bottomrule\n\\end{tabular}\n%\\caption{Logit Regression Results}\n\\end{center}"
     },
     "execution_count": 59,
     "metadata": {},
     "output_type": "execute_result"
    }
   ],
   "execution_count": 59
  },
  {
   "metadata": {},
   "cell_type": "markdown",
   "source": [
    "#### Logistic regression interpretation\n",
    "\n",
    "Both regressions do not model making the front page well. Making the front page and not, overlap heavily with respect to the dependent variables, so it is difficult to make sound predictions. The models are essentially predicting that all submissions will not make the front page."
   ],
   "id": "4ba551c54682e56f"
  },
  {
   "metadata": {},
   "cell_type": "code",
   "outputs": [],
   "execution_count": null,
   "source": "",
   "id": "28dd256ad6773e12"
  }
 ],
 "metadata": {
  "kernelspec": {
   "display_name": "Python 3",
   "language": "python",
   "name": "python3"
  },
  "language_info": {
   "codemirror_mode": {
    "name": "ipython",
    "version": 2
   },
   "file_extension": ".py",
   "mimetype": "text/x-python",
   "name": "python",
   "nbconvert_exporter": "python",
   "pygments_lexer": "ipython2",
   "version": "2.7.6"
  }
 },
 "nbformat": 4,
 "nbformat_minor": 5
}
